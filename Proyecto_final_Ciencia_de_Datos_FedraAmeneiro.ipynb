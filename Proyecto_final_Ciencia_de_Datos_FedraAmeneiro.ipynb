{
  "cells": [
    {
      "cell_type": "markdown",
      "metadata": {
        "id": "view-in-github",
        "colab_type": "text"
      },
      "source": [
        "<a href=\"https://colab.research.google.com/github/fedraameneiro/DataScientistFinalProject/blob/main/Proyecto_final_Ciencia_de_Datos_FedraAmeneiro.ipynb\" target=\"_parent\"><img src=\"https://colab.research.google.com/assets/colab-badge.svg\" alt=\"Open In Colab\"/></a>"
      ]
    },
    {
      "cell_type": "markdown",
      "metadata": {
        "id": "-GL2yGP-cUpB"
      },
      "source": [
        "#Proyecto diabetes\n",
        "\n"
      ]
    },
    {
      "cell_type": "markdown",
      "metadata": {
        "id": "2RGBHL7aeMBE"
      },
      "source": [
        "#**Abstract**\n",
        "\n",
        "La diabetes diabetes mellitus es una enfermedad crónica que se presenta cuando el páncreas no secreta suficiente insulina o cuando el organismo no utiliza eficazmente la insulina que produce. La insulina es una hormona que regula la concentración de glucosa en la sangre, es decir, la glucemia. Un efecto común de la diabetes no controlada es la hiperglucemia (es decir, la glucemia elevada) que, con el tiempo daña gravemente muchos órganos y sistemas del organismo, sobre todo los nervios y los vasos sanguíneos.\n",
        "\n",
        "En 2014, el 8,5% de los mayores de 18 años padecían diabetes. En 2019, esta afección fue la causa directa de 1,5 millones de defunciones y, de todos los fallecidos por diabetes, el 48% tenía menos de 70 años. Además, otras 460 000 personas fallecieron a causa de la nefropatía diabética, y la hiperglucemia ocasiona alrededor del 20% de las defunciones por causa cardiovascular (1).\n",
        "\n",
        "Entre 2000 y 2019, las tasas de mortalidad por diabetes normalizadas por edades aumentaron en un 3%. En los países ingresos medianos o bajos, la tasa de mortalidad por diabetes aumentó en un 13%.\n",
        "\n",
        "En cambio, entre 2000 y 2019, la probabilidad de fallecer entre los 30 y los 70 años de edad por alguna de las cuatro principales enfermedades no transmisibles (enfermedades cardiovasculares, cáncer, enfermedades respiratorias crónicas o diabetes) se redujo en un 22% a escala mundial.\n",
        "https://www.who.int/es/news-room/fact-sheets/detail/diabetes\n",
        "\n",
        "Realizamos el análisis de 100.000 muestras de pacientes hasta los 80 años y analizamos la probabilidad de sufrir diabetes según las variables de hipertensión, problemas cardiovasculares, histórico fumando, índice corporal, nivel de HbA1c y glucosa en sangre.\n",
        "\n",
        "Queremos saber cuáles son las variables que más nos afectan a la hora de sufrir esta enfermedad.\n",
        "\n",
        "\n",
        "1.   Qué variables son las preponderantes en el riesgo de tener diabetes?\n",
        "2.   Qué probabilidad tiene un paciente de sufrir diabetes teniendo en cuenta las variables menos fuertes?\n",
        "\n",
        "Finalmente analizaremos un algoritmo de Machine learning que mejor nos prediga esta condición.\n",
        "\n"
      ]
    },
    {
      "cell_type": "markdown",
      "source": [
        "\n",
        "**Glosario**\n",
        "\n",
        "*   gender  :               Género del paciente. Hombre o mujer.\n",
        "*   age     :               Edad del paciente en el momento de la muestra.\n",
        "*   hypertension    :       Si el paciente presenta hipertensión como patología es 1.\n",
        "*   heart_disease  :        Si el paciente presenta patologías cardiovasculares, es 1.\n",
        "*   smoking_history    :    Antecedentes en la relación con el tabaco.\n",
        "*   bmi             :       Indice de masa corporal.\n",
        "*   HbA1c_level     :       Niveles de HbA1c.\n",
        "*   blood_glucose_level :    Niveles de glucosa en sangre.\n",
        "*   diabetes          :     Si el diagnóstico final es con diabetes es 1.\n",
        "\n",
        "\n",
        "\n",
        "\n",
        "\n",
        "\n",
        "\n",
        "\n",
        "\n",
        "\n",
        "\n"
      ],
      "metadata": {
        "id": "H2LhRXfaXA8F"
      }
    },
    {
      "cell_type": "code",
      "execution_count": null,
      "metadata": {
        "id": "YEy8FUideDK5"
      },
      "outputs": [],
      "source": [
        "#librerías\n",
        "import pandas as pd\n",
        "import numpy as np\n",
        "import matplotlib.pyplot as plt\n",
        "import seaborn as sns\n",
        "from sklearn.linear_model import LinearRegression as LR\n",
        "from sklearn.metrics import r2_score\n",
        "from sklearn.model_selection import train_test_split\n",
        "from mlxtend.feature_selection import SequentialFeatureSelector as SFS\n",
        "import plotly as pl\n",
        "import plotly.express as px\n"
      ]
    },
    {
      "cell_type": "code",
      "execution_count": null,
      "metadata": {
        "id": "mZoNSleqeYvz",
        "colab": {
          "base_uri": "https://localhost:8080/",
          "height": 389
        },
        "outputId": "d23d3365-ec66-4adf-97dc-3bbaa511f307"
      },
      "outputs": [
        {
          "output_type": "stream",
          "name": "stderr",
          "text": [
            "WARNING:root:pydrive is deprecated and no longer maintained. We recommend that you migrate your projects to pydrive2, the maintained fork of pydrive\n"
          ]
        },
        {
          "output_type": "error",
          "ename": "MessageError",
          "evalue": "Error: credential propagation was unsuccessful",
          "traceback": [
            "\u001b[0;31m---------------------------------------------------------------------------\u001b[0m",
            "\u001b[0;31mMessageError\u001b[0m                              Traceback (most recent call last)",
            "\u001b[0;32m<ipython-input-2-e5db97a11f38>\u001b[0m in \u001b[0;36m<cell line: 12>\u001b[0;34m()\u001b[0m\n\u001b[1;32m     10\u001b[0m \u001b[0;34m\u001b[0m\u001b[0m\n\u001b[1;32m     11\u001b[0m \u001b[0;31m# Authenticate and create the PyDrive client.\u001b[0m\u001b[0;34m\u001b[0m\u001b[0;34m\u001b[0m\u001b[0m\n\u001b[0;32m---> 12\u001b[0;31m \u001b[0mauth\u001b[0m\u001b[0;34m.\u001b[0m\u001b[0mauthenticate_user\u001b[0m\u001b[0;34m(\u001b[0m\u001b[0;34m)\u001b[0m\u001b[0;34m\u001b[0m\u001b[0;34m\u001b[0m\u001b[0m\n\u001b[0m\u001b[1;32m     13\u001b[0m \u001b[0mgauth\u001b[0m \u001b[0;34m=\u001b[0m \u001b[0mGoogleAuth\u001b[0m\u001b[0;34m(\u001b[0m\u001b[0;34m)\u001b[0m\u001b[0;34m\u001b[0m\u001b[0;34m\u001b[0m\u001b[0m\n\u001b[1;32m     14\u001b[0m \u001b[0mgauth\u001b[0m\u001b[0;34m.\u001b[0m\u001b[0mcredentials\u001b[0m \u001b[0;34m=\u001b[0m \u001b[0mGoogleCredentials\u001b[0m\u001b[0;34m.\u001b[0m\u001b[0mget_application_default\u001b[0m\u001b[0;34m(\u001b[0m\u001b[0;34m)\u001b[0m\u001b[0;34m\u001b[0m\u001b[0;34m\u001b[0m\u001b[0m\n",
            "\u001b[0;32m/usr/local/lib/python3.10/dist-packages/google/colab/auth.py\u001b[0m in \u001b[0;36mauthenticate_user\u001b[0;34m(clear_output, project_id)\u001b[0m\n\u001b[1;32m    279\u001b[0m   \u001b[0;32mif\u001b[0m \u001b[0;32mnot\u001b[0m \u001b[0m_check_adc\u001b[0m\u001b[0;34m(\u001b[0m\u001b[0m_CredentialType\u001b[0m\u001b[0;34m.\u001b[0m\u001b[0mUSER\u001b[0m\u001b[0;34m)\u001b[0m\u001b[0;34m:\u001b[0m\u001b[0;34m\u001b[0m\u001b[0;34m\u001b[0m\u001b[0m\n\u001b[1;32m    280\u001b[0m     \u001b[0;32mif\u001b[0m \u001b[0muse_auth_ephem\u001b[0m\u001b[0;34m:\u001b[0m\u001b[0;34m\u001b[0m\u001b[0;34m\u001b[0m\u001b[0m\n\u001b[0;32m--> 281\u001b[0;31m       _message.blocking_request(\n\u001b[0m\u001b[1;32m    282\u001b[0m           \u001b[0;34m'request_auth'\u001b[0m\u001b[0;34m,\u001b[0m\u001b[0;34m\u001b[0m\u001b[0;34m\u001b[0m\u001b[0m\n\u001b[1;32m    283\u001b[0m           \u001b[0mrequest\u001b[0m\u001b[0;34m=\u001b[0m\u001b[0;34m{\u001b[0m\u001b[0;34m'authType'\u001b[0m\u001b[0;34m:\u001b[0m \u001b[0;34m'auth_user_ephemeral'\u001b[0m\u001b[0;34m}\u001b[0m\u001b[0;34m,\u001b[0m\u001b[0;34m\u001b[0m\u001b[0;34m\u001b[0m\u001b[0m\n",
            "\u001b[0;32m/usr/local/lib/python3.10/dist-packages/google/colab/_message.py\u001b[0m in \u001b[0;36mblocking_request\u001b[0;34m(request_type, request, timeout_sec, parent)\u001b[0m\n\u001b[1;32m    174\u001b[0m       \u001b[0mrequest_type\u001b[0m\u001b[0;34m,\u001b[0m \u001b[0mrequest\u001b[0m\u001b[0;34m,\u001b[0m \u001b[0mparent\u001b[0m\u001b[0;34m=\u001b[0m\u001b[0mparent\u001b[0m\u001b[0;34m,\u001b[0m \u001b[0mexpect_reply\u001b[0m\u001b[0;34m=\u001b[0m\u001b[0;32mTrue\u001b[0m\u001b[0;34m\u001b[0m\u001b[0;34m\u001b[0m\u001b[0m\n\u001b[1;32m    175\u001b[0m   )\n\u001b[0;32m--> 176\u001b[0;31m   \u001b[0;32mreturn\u001b[0m \u001b[0mread_reply_from_input\u001b[0m\u001b[0;34m(\u001b[0m\u001b[0mrequest_id\u001b[0m\u001b[0;34m,\u001b[0m \u001b[0mtimeout_sec\u001b[0m\u001b[0;34m)\u001b[0m\u001b[0;34m\u001b[0m\u001b[0;34m\u001b[0m\u001b[0m\n\u001b[0m",
            "\u001b[0;32m/usr/local/lib/python3.10/dist-packages/google/colab/_message.py\u001b[0m in \u001b[0;36mread_reply_from_input\u001b[0;34m(message_id, timeout_sec)\u001b[0m\n\u001b[1;32m    101\u001b[0m     ):\n\u001b[1;32m    102\u001b[0m       \u001b[0;32mif\u001b[0m \u001b[0;34m'error'\u001b[0m \u001b[0;32min\u001b[0m \u001b[0mreply\u001b[0m\u001b[0;34m:\u001b[0m\u001b[0;34m\u001b[0m\u001b[0;34m\u001b[0m\u001b[0m\n\u001b[0;32m--> 103\u001b[0;31m         \u001b[0;32mraise\u001b[0m \u001b[0mMessageError\u001b[0m\u001b[0;34m(\u001b[0m\u001b[0mreply\u001b[0m\u001b[0;34m[\u001b[0m\u001b[0;34m'error'\u001b[0m\u001b[0;34m]\u001b[0m\u001b[0;34m)\u001b[0m\u001b[0;34m\u001b[0m\u001b[0;34m\u001b[0m\u001b[0m\n\u001b[0m\u001b[1;32m    104\u001b[0m       \u001b[0;32mreturn\u001b[0m \u001b[0mreply\u001b[0m\u001b[0;34m.\u001b[0m\u001b[0mget\u001b[0m\u001b[0;34m(\u001b[0m\u001b[0;34m'data'\u001b[0m\u001b[0;34m,\u001b[0m \u001b[0;32mNone\u001b[0m\u001b[0;34m)\u001b[0m\u001b[0;34m\u001b[0m\u001b[0;34m\u001b[0m\u001b[0m\n\u001b[1;32m    105\u001b[0m \u001b[0;34m\u001b[0m\u001b[0m\n",
            "\u001b[0;31mMessageError\u001b[0m: Error: credential propagation was unsuccessful"
          ]
        }
      ],
      "source": [
        "#obtener el archivo csv de drive\n",
        "\n",
        "!pip install -U -q PyDrive\n",
        "\n",
        "from pydrive.auth import GoogleAuth\n",
        "from pydrive.drive import GoogleDrive\n",
        "from google.colab import auth\n",
        "from oauth2client.client import GoogleCredentials\n",
        "\n",
        "\n",
        "# Authenticate and create the PyDrive client.\n",
        "auth.authenticate_user()\n",
        "gauth = GoogleAuth()\n",
        "gauth.credentials = GoogleCredentials.get_application_default()\n",
        "drive = GoogleDrive(gauth)\n",
        "\n",
        "link = 'https://drive.google.com/file/d/18ymyIaVZ8FK7WhyGltLrJbfx2nyvzjtK/view?usp=drive_link'\n",
        "\n",
        "# to get the id part of the file\n",
        "id = link.split(\"/\")[-2]\n",
        "\n",
        "downloaded = drive.CreateFile({'id':id})\n",
        "downloaded.GetContentFile('diabetes.csv')"
      ]
    },
    {
      "cell_type": "code",
      "execution_count": null,
      "metadata": {
        "id": "qNiZfDPofXxI"
      },
      "outputs": [],
      "source": [
        "df=pd.read_csv('diabetes.csv', sep=';')\n",
        "df.head()"
      ]
    },
    {
      "cell_type": "markdown",
      "metadata": {
        "id": "6K2WheQfkxoy"
      },
      "source": [
        "Tenemos 4 variables categoricas y la variable objetivo. Y 3 variables numericas."
      ]
    },
    {
      "cell_type": "code",
      "execution_count": null,
      "metadata": {
        "id": "LpZF4QsEk7AK"
      },
      "outputs": [],
      "source": [
        "df.dtypes"
      ]
    },
    {
      "cell_type": "code",
      "source": [
        "df.count()"
      ],
      "metadata": {
        "id": "cM4llpzxkbJv"
      },
      "execution_count": null,
      "outputs": []
    },
    {
      "cell_type": "markdown",
      "source": [
        "Antes de nada voy a chequear aquellas  variables numericas que aparecen como objetos y los voy a modificar. bmi y HbA1c_level deberían ser enteros. Les voy a cambiar la coma por un punto."
      ],
      "metadata": {
        "id": "TBZmQOSgNDXG"
      }
    },
    {
      "cell_type": "code",
      "source": [
        "df.bmi=df.bmi.str.replace(',','.')\n",
        "df.HbA1c_level=df.HbA1c_level.str.replace(',','.')\n",
        "df.bmi=df[\"bmi\"].astype(float)\n",
        "df.HbA1c_level=df[\"HbA1c_level\"].astype(float)\n",
        "df.dtypes"
      ],
      "metadata": {
        "id": "yUKNIXTxNSUW"
      },
      "execution_count": null,
      "outputs": []
    },
    {
      "cell_type": "code",
      "source": [
        "df.describe().T"
      ],
      "metadata": {
        "id": "U6I5G61KkwgI"
      },
      "execution_count": null,
      "outputs": []
    },
    {
      "cell_type": "code",
      "execution_count": null,
      "metadata": {
        "id": "0aL3wBKAoz2p"
      },
      "outputs": [],
      "source": [
        "df_diabetes=df[df.diabetes==1]\n",
        "df_nodiabetes=df[df.diabetes==0]\n",
        "df_diabetes.head()"
      ]
    },
    {
      "cell_type": "markdown",
      "source": [
        "#Ingeniería de factores\n",
        "Feacture creation y Feacture Cleaning"
      ],
      "metadata": {
        "id": "ogrk43hJoEMl"
      }
    },
    {
      "cell_type": "code",
      "source": [
        "df.info()"
      ],
      "metadata": {
        "id": "XR8Yq69fBI0k"
      },
      "execution_count": null,
      "outputs": []
    },
    {
      "cell_type": "code",
      "source": [
        "df.age.value_counts()"
      ],
      "metadata": {
        "id": "NjSc_8wOBb8S"
      },
      "execution_count": null,
      "outputs": []
    },
    {
      "cell_type": "code",
      "execution_count": null,
      "metadata": {
        "id": "liViy7yDlFZ4"
      },
      "outputs": [],
      "source": [
        "df.isnull().sum()/df.shape[0]"
      ]
    },
    {
      "cell_type": "markdown",
      "metadata": {
        "id": "105W2YR0lISe"
      },
      "source": [
        "No hay nulos"
      ]
    },
    {
      "cell_type": "code",
      "execution_count": null,
      "metadata": {
        "id": "O_HjkxSwlJjQ"
      },
      "outputs": [],
      "source": [
        "df.isna().sum()"
      ]
    },
    {
      "cell_type": "markdown",
      "metadata": {
        "id": "Q-bCl-88lMii"
      },
      "source": [
        "No hay NaN"
      ]
    },
    {
      "cell_type": "markdown",
      "source": [
        "Heatmap entre todas las variables numericas medidas"
      ],
      "metadata": {
        "id": "NggWWQeCltPF"
      }
    },
    {
      "cell_type": "code",
      "source": [
        "plt.figure(dpi = 120,figsize= (20,8))\n",
        "mask = np.triu(np.ones_like(df.corr(),dtype = bool))\n",
        "sns.heatmap(df.corr(),mask = mask, fmt = \".2f\",annot=True,lw=1,cmap=\"Blues\")\n",
        "plt.yticks(rotation = 0)\n",
        "plt.xticks(rotation = 90)\n",
        "plt.title('Correlation Heatmap')\n",
        "plt.show()"
      ],
      "metadata": {
        "id": "p0motSe_lspW"
      },
      "execution_count": null,
      "outputs": []
    },
    {
      "cell_type": "markdown",
      "source": [
        "Relación entre nuestras variables categoricas"
      ],
      "metadata": {
        "id": "1TYCdSaWr3rz"
      }
    },
    {
      "cell_type": "code",
      "source": [
        "pd.crosstab(df.gender, df.smoking_history)"
      ],
      "metadata": {
        "id": "QZTRqk5_r5tJ"
      },
      "execution_count": null,
      "outputs": []
    },
    {
      "cell_type": "markdown",
      "source": [
        "Eliminamos aquellas muestras con genero other."
      ],
      "metadata": {
        "id": "MoNzA09UsS__"
      }
    },
    {
      "cell_type": "code",
      "source": [
        "df['gender'].unique()"
      ],
      "metadata": {
        "id": "osojXe1fwTeI"
      },
      "execution_count": null,
      "outputs": []
    },
    {
      "cell_type": "code",
      "source": [
        "df=df[df.gender!='Other']"
      ],
      "metadata": {
        "id": "V6lenQnQt2hF"
      },
      "execution_count": null,
      "outputs": []
    },
    {
      "cell_type": "code",
      "source": [
        "pd.crosstab(df.gender, df.smoking_history)"
      ],
      "metadata": {
        "id": "xaMkirzZwtBq"
      },
      "execution_count": null,
      "outputs": []
    },
    {
      "cell_type": "markdown",
      "source": [
        "#Analisis exploratorio de los datos. EDA"
      ],
      "metadata": {
        "id": "rX0GIUrHoYtd"
      }
    },
    {
      "cell_type": "markdown",
      "metadata": {
        "id": "L5rV-BmmlRPp"
      },
      "source": [
        "#Analisis Univariado\n"
      ]
    },
    {
      "cell_type": "markdown",
      "metadata": {
        "id": "DnYyXb0kEyhX"
      },
      "source": [
        "Vemos la cantidad de diabéticos de nuestro estudio, son relativamente pocos en relación al estudio total, pero suficientes. 8500 de 100000 pacientes, 8.5%."
      ]
    },
    {
      "cell_type": "code",
      "execution_count": null,
      "metadata": {
        "id": "lSAto-SnE8-I"
      },
      "outputs": [],
      "source": [
        "#cantidad total de registros\n",
        "len(df)"
      ]
    },
    {
      "cell_type": "code",
      "execution_count": null,
      "metadata": {
        "id": "3eEOPSkVpJx8"
      },
      "outputs": [],
      "source": [
        "#cantidad de diabeticos en total\n",
        "df.diabetes.sum()"
      ]
    },
    {
      "cell_type": "markdown",
      "metadata": {
        "id": "sVmXhTkuGa93"
      },
      "source": [
        "Revisamos la relación entre ser diabetico y no en nuestras muestras"
      ]
    },
    {
      "cell_type": "code",
      "execution_count": null,
      "metadata": {
        "id": "8VldXyRdw1J4"
      },
      "outputs": [],
      "source": [
        "numero_de_diabeticos = len(df_diabetes)\n",
        "numero_de_no_diabeticos= len(df_nodiabetes)"
      ]
    },
    {
      "cell_type": "code",
      "execution_count": null,
      "metadata": {
        "id": "k0Dnag0_v0a8"
      },
      "outputs": [],
      "source": [
        "medidas=[numero_de_diabeticos,numero_de_no_diabeticos]\n",
        "labels =['Diabeticos','No diabeticos']\n",
        "colores = [\"#EE6055\",\"#60D394\"]\n",
        "#plt.pie(medidas, labels=nombres, autopct=\"%0.1f %%\", colors=colores)\n",
        "\n",
        "plt.pie(medidas, labels=labels, autopct=\"%.1f%%\",explode=[0.05]*2, pctdistance=0.5, colors=colores)\n",
        "plt.title(\"Distribucion de barrios\", fontsize=14)\n"
      ]
    },
    {
      "cell_type": "code",
      "execution_count": null,
      "metadata": {
        "id": "b3VGvp997-4X"
      },
      "outputs": [],
      "source": [
        "df_nodiabetes.pivot_table(values='blood_glucose_level', index='gender')"
      ]
    },
    {
      "cell_type": "code",
      "execution_count": null,
      "metadata": {
        "id": "pvYLNKbk8ckJ"
      },
      "outputs": [],
      "source": [
        "df.pivot_table(values='blood_glucose_level', index='gender')\n",
        "df_diabetes.pivot_table(values='blood_glucose_level', index='gender')"
      ]
    },
    {
      "cell_type": "code",
      "execution_count": null,
      "metadata": {
        "id": "N58BAK24871e"
      },
      "outputs": [],
      "source": [
        "df_diabetes.pivot_table(values='age', index='smoking_history', columns=['gender','blood_glucose_level'])"
      ]
    },
    {
      "cell_type": "markdown",
      "metadata": {
        "id": "IclT9Iyhovk9"
      },
      "source": [
        "#Análisis categórico\n",
        "Empezamos analizando las variables categóricas para los diabeticos, separamos las muestras de pacientes que sufren diabetes y que no y revisamos las variables que más afectan.\n",
        "\n",
        "\n",
        "*   Género\n",
        "*   Historial como fumador\n",
        "*   Hipertensión\n",
        "*   Enfermedades Cardiovasculares\n"
      ]
    },
    {
      "cell_type": "markdown",
      "metadata": {
        "id": "m0A1_-PqqeYV"
      },
      "source": [
        "Relación de diabeticos masculinos y femeninos. No vemos especial relación en ser diabético y el género."
      ]
    },
    {
      "cell_type": "code",
      "execution_count": null,
      "metadata": {
        "id": "zZ9mm4SElN8A"
      },
      "outputs": [],
      "source": [
        "plt.hist(df_nodiabetes['gender'], bins=10, alpha=0.5, label='No diabeticos')  # alpha controla la transparencia\n",
        "plt.hist(df_diabetes['gender'], bins=10, alpha=0.5, label='Diabeticos')\n",
        "\n",
        "# Configuración de la leyenda y etiquetas\n",
        "plt.legend(loc='upper right')\n",
        "plt.xlabel('Valor')\n",
        "plt.ylabel('Genero')\n",
        "plt.title('Género')\n",
        "\n",
        "# Mostrar el gráfico\n",
        "plt.show()"
      ]
    },
    {
      "cell_type": "markdown",
      "metadata": {
        "id": "qK_J-2SqFNwC"
      },
      "source": [
        "Relación entre el consumo de tabaco y la enfermedad. De la misma forma, no hay relación entre el consumo de tabaco y la diabetes."
      ]
    },
    {
      "cell_type": "code",
      "execution_count": null,
      "metadata": {
        "id": "MjtPA9_bFt76"
      },
      "outputs": [],
      "source": [
        "\n",
        "plt.hist(df_nodiabetes['smoking_history'], bins=10, alpha=0.5, label='No diabeticos')  # alpha controla la transparencia\n",
        "plt.hist(df_diabetes['smoking_history'], bins=10, alpha=0.5, label='Diabeticos')\n",
        "\n",
        "# Configuración de la leyenda y etiquetas\n",
        "plt.legend(loc='upper right')\n",
        "plt.xlabel('Valor')\n",
        "plt.ylabel('Tabaco')\n",
        "plt.title('Smoking History')\n",
        "\n",
        "# Mostrar el gráfico\n",
        "plt.show()"
      ]
    },
    {
      "cell_type": "markdown",
      "metadata": {
        "id": "QvlmtA92niy8"
      },
      "source": [
        "Relación entre el consumo de tabaco y la hipertensión, no hay mayor ponderancia de diabéticos que sufran hipertensión en relación a los pacientes que no resultaron con la enfermedad."
      ]
    },
    {
      "cell_type": "code",
      "execution_count": null,
      "metadata": {
        "id": "IzKMnVHXnM-j"
      },
      "outputs": [],
      "source": [
        "plt.hist(df_nodiabetes['hypertension'], bins=10, alpha=0.5, label='No diabeticos')  # alpha controla la transparencia\n",
        "plt.hist(df_diabetes['hypertension'], bins=10, alpha=0.5, label='Diabeticos')\n",
        "\n",
        "# Configuración de la leyenda y etiquetas\n",
        "plt.legend(loc='upper right')\n",
        "plt.xlabel('Valor')\n",
        "plt.ylabel('hypertension')\n",
        "plt.title('Sufre Hipertensión')\n",
        "\n",
        "# Mostrar el gráfico\n",
        "plt.show()"
      ]
    },
    {
      "cell_type": "markdown",
      "metadata": {
        "id": "Cq93SxXhn66-"
      },
      "source": [
        "Y finalmente, tampoco vemos relación entre sufrir cardiopatías y sufrir diabetes."
      ]
    },
    {
      "cell_type": "code",
      "execution_count": null,
      "metadata": {
        "id": "p9PV3Xkjnu7i"
      },
      "outputs": [],
      "source": [
        "plt.hist(df_nodiabetes['heart_disease'], bins=10, alpha=0.5, label='No diabeticos')  # alpha controla la transparencia\n",
        "plt.hist(df_diabetes['heart_disease'], bins=10, alpha=0.5, label='Diabeticos')\n",
        "\n",
        "# Configuración de la leyenda y etiquetas\n",
        "plt.legend(loc='upper right')\n",
        "plt.xlabel('Valor')\n",
        "plt.ylabel('heart_disease')\n",
        "plt.title('Sufre alguna Cardiopatía')\n",
        "\n",
        "# Mostrar el gráfico\n",
        "plt.show()"
      ]
    },
    {
      "cell_type": "markdown",
      "metadata": {
        "id": "vOZX0jK2o-qy"
      },
      "source": [
        "#Analisis numérico\n",
        "A continuación vamos a analizar las variables numéricas y determinar si alguna nos afecta en la probabilidad de sufrir diabetes.\n",
        "\n",
        "\n",
        "*   Edad\n",
        "*   Bmi, índice de masa corporal\n",
        "*   Niveles de HbA1C\n",
        "*   Niveles de glucosa en sangre\n",
        "\n"
      ]
    },
    {
      "cell_type": "markdown",
      "metadata": {
        "id": "1wzicuqVuzNI"
      },
      "source": [
        "Relación entre ser diabético y la edad. Mas edad, más probabilidad. Y esta relación no se ve afectada con el género, como se vió antes."
      ]
    },
    {
      "cell_type": "code",
      "execution_count": null,
      "metadata": {
        "id": "9QyDukQvrPFx"
      },
      "outputs": [],
      "source": [
        "plt.hist(df_nodiabetes['age'], bins=30, alpha=0.5, label='No diabeticos')  # alpha controla la transparencia\n",
        "plt.hist(df_diabetes['age'], bins=30, alpha=0.5, label='Diabeticos')\n",
        "\n",
        "# Configuración de la leyenda y etiquetas\n",
        "plt.legend(loc='upper right')\n",
        "plt.xlabel('Valor')\n",
        "plt.ylabel('age')\n",
        "plt.title('Edad')\n",
        "\n",
        "# Mostrar el gráfico\n",
        "plt.show()"
      ]
    },
    {
      "cell_type": "code",
      "execution_count": null,
      "metadata": {
        "id": "3knGaPbJut3w"
      },
      "outputs": [],
      "source": [
        "sns.histplot(df_diabetes,x='age',hue='gender')"
      ]
    },
    {
      "cell_type": "markdown",
      "metadata": {
        "id": "26wjkihzrg89"
      },
      "source": [
        "Relación entre ser diabético y el indice de masa corporal BMI. Podemos ver que a medida que aumenta la edad, y a mayor indice de masa corporal, la probabilidad de diabetes aumenta."
      ]
    },
    {
      "cell_type": "code",
      "execution_count": null,
      "metadata": {
        "id": "0DRhDgm7swC9"
      },
      "outputs": [],
      "source": [
        "px.scatter(df,x='age',y='bmi',color='diabetes')"
      ]
    },
    {
      "cell_type": "code",
      "source": [
        "px.scatter(df,x='HbA1c_level',y='blood_glucose_level',color='diabetes')"
      ],
      "metadata": {
        "id": "E2zBpuvfOWnc"
      },
      "execution_count": null,
      "outputs": []
    },
    {
      "cell_type": "markdown",
      "metadata": {
        "id": "KNXa2N_kGQ5k"
      },
      "source": [
        "Relacion entre ser diabetico y los niveles de HbA1c. En este caso podemos ver que a partir de 6,5 hacia arriba, los valores indican directamente una relación con la diabetes."
      ]
    },
    {
      "cell_type": "code",
      "execution_count": null,
      "metadata": {
        "id": "NL_WIyUfykKn"
      },
      "outputs": [],
      "source": [
        "plt.hist(df_nodiabetes['HbA1c_level'], bins=10, alpha=0.5, label='No diabeticos')  # alpha controla la transparencia\n",
        "plt.hist(df_diabetes['HbA1c_level'], bins=10, alpha=0.5, label='Diabeticos')\n",
        "\n",
        "# Configuración de la leyenda y etiquetas\n",
        "plt.legend(loc='upper right')\n",
        "plt.xlabel('Valor')\n",
        "plt.ylabel('HbA1c_level')\n",
        "plt.title('HbA1c_level')\n",
        "\n",
        "# Mostrar el gráfico\n",
        "plt.show()"
      ]
    },
    {
      "cell_type": "markdown",
      "metadata": {
        "id": "15tHW9_7F5Z0"
      },
      "source": [
        "Relacion entre el ser diabetico y el nivel de glucosa en sangre. Vemos que, siendo 150 niveles normales y habituales en los dos grupos, a mayores valores de glucosa en sangre le corresponden directamente casos de diabetes, mientras que no existen casos en los valores más bajos. Por lo tanto hay una relación directa entre ser diabético y el nivel de glucosa en sangre."
      ]
    },
    {
      "cell_type": "code",
      "execution_count": null,
      "metadata": {
        "id": "dEcE-NQVoYdQ"
      },
      "outputs": [],
      "source": [
        "plt.hist(df_nodiabetes['blood_glucose_level'], bins=10, alpha=0.5, label='No diabeticos')  # alpha controla la transparencia\n",
        "plt.hist(df_diabetes['blood_glucose_level'], bins=10, alpha=0.5, label='Diabeticos')\n",
        "\n",
        "# Configuración de la leyenda y etiquetas\n",
        "plt.legend(loc='upper right')\n",
        "plt.xlabel('Valor')\n",
        "plt.ylabel('blood_glucose_level')\n",
        "plt.title('Nivel de glucosa en sangre')\n",
        "\n",
        "# Mostrar el gráfico\n",
        "plt.show()"
      ]
    },
    {
      "cell_type": "markdown",
      "metadata": {
        "id": "vweRuPwj0AL4"
      },
      "source": [
        "#Conclusiones:\n",
        "No hay relación directa de la diabetes con variables categóricas como el género, ser fumador, antecedentes de problemas cardiovasculares o hipertensión.\n",
        "\n",
        "Vemos relación de la edad con la diabetes, a más edad mayor probabilidad de diabetes. Pero sobre todo, se vió una relación entre la edad y el índice corporal.\n",
        "\n",
        "La mayor correlación se vio entre la diabetes y las variables numericas está en HbA1c_level y blood glucose level."
      ]
    },
    {
      "cell_type": "markdown",
      "metadata": {
        "id": "eUHmYwxWZmDI"
      },
      "source": [
        "# Algoritmo Machine Learning\n",
        "Queremos predecir si un paciente es diabético o no.\n",
        "Vamos a seleccionar qué algoritmo funciona mejor para la previsión de que un paciente sea diabético según ciertos parámetros.\n",
        "\n",
        "\n",
        "\n",
        "*   Regresión logística\n",
        "*   KNN\n",
        "*   SVM\n",
        "*   Arboles de decisión\n",
        "*   Redes neuronales\n",
        "\n"
      ]
    },
    {
      "cell_type": "code",
      "execution_count": null,
      "metadata": {
        "id": "zcPTyU4g5aPu"
      },
      "outputs": [],
      "source": [
        "df.head()"
      ]
    },
    {
      "cell_type": "markdown",
      "metadata": {
        "id": "-6wz6Mpi5nxr"
      },
      "source": [
        "Vemos la correlación entre variables numéricas y confirmamos que las mejores variables que se relacionan con la diabetes son el nivel HbA1c_level y el nivel de glucosa en sangre."
      ]
    },
    {
      "cell_type": "code",
      "execution_count": null,
      "metadata": {
        "id": "TTl_R7He3GA8"
      },
      "outputs": [],
      "source": [
        "X=df[[ 'HbA1c_level','blood_glucose_level']]\n",
        "y=df['diabetes']"
      ]
    },
    {
      "cell_type": "code",
      "execution_count": null,
      "metadata": {
        "id": "JrG8QK_NAvhM"
      },
      "outputs": [],
      "source": [
        "X"
      ]
    },
    {
      "cell_type": "markdown",
      "source": [
        "**Regresion Logistica**"
      ],
      "metadata": {
        "id": "d46GwwEnsLOh"
      }
    },
    {
      "cell_type": "markdown",
      "source": [
        "Empezamos construyendo un modelo de regresión logística con las variables que más fuerza hemos visto que tienen en la predicción de la condición de diabetes."
      ],
      "metadata": {
        "id": "kKy_GRZi14Lq"
      }
    },
    {
      "cell_type": "code",
      "source": [
        "# Importar biblioteca\n",
        "import matplotlib.pyplot as plt\n",
        "from sklearn.linear_model import LogisticRegression\n",
        "from sklearn.model_selection import train_test_split\n",
        "from sklearn import datasets\n",
        "from sklearn.metrics import accuracy_score"
      ],
      "metadata": {
        "id": "G6_Lrf2yRk71"
      },
      "execution_count": null,
      "outputs": []
    },
    {
      "cell_type": "code",
      "source": [
        "from sklearn.linear_model import LogisticRegression"
      ],
      "metadata": {
        "id": "r9z50f61sbs-"
      },
      "execution_count": null,
      "outputs": []
    },
    {
      "cell_type": "code",
      "source": [
        "X=df[[ 'HbA1c_level','blood_glucose_level']]\n",
        "y=df['diabetes']\n",
        "\n",
        "# Dividir el conjunto de datos en conjuntos de entrenamiento y testing\n",
        "X_train, X_test, y_train, y_test = train_test_split(X, y, test_size=0.2, random_state=42)"
      ],
      "metadata": {
        "id": "sHSptcxdsOva"
      },
      "execution_count": null,
      "outputs": []
    },
    {
      "cell_type": "code",
      "source": [
        "\n",
        "\n",
        "\n",
        "# Inicializar el modelo de regresión logística\n",
        "model = LogisticRegression()\n",
        "\n",
        "# Entrenar el modelo con los datos de entrenamiento\n",
        "model.fit(X_train, y_train)\n",
        "\n",
        "# Realizar predicciones en el conjunto de prueba\n",
        "predictions = model.predict(X_test)\n",
        "\n",
        "# Calcular la precisión del modelo\n",
        "accuracy = np.mean(predictions == y_test)\n",
        "print(f\"Precisión del modelo: {accuracy * 100:.2f}%\")\n",
        "\n"
      ],
      "metadata": {
        "id": "mdDQwgWvtXVe"
      },
      "execution_count": null,
      "outputs": []
    },
    {
      "cell_type": "markdown",
      "source": [
        "Es una buena opción de clasificación como diabético, no diabético.\n",
        "Este caso es un modelo con pocas variables, sin embargo podemos conseguir una cantidad de muestras de entrenamiento bastante amplia."
      ],
      "metadata": {
        "id": "I9zT2JZS1ALM"
      }
    },
    {
      "cell_type": "markdown",
      "source": [
        "Comparamos este modelo con las cuatro variables que hemos visto que pueden predecir la condición: Edad, PMI, glucose_blood y HbA1c_level.\n"
      ],
      "metadata": {
        "id": "DFEWN1Fa2hBJ"
      }
    },
    {
      "cell_type": "code",
      "source": [],
      "metadata": {
        "id": "Ihfy38_F2tXv"
      },
      "execution_count": null,
      "outputs": []
    },
    {
      "cell_type": "code",
      "source": [
        "X=df[['age', 'bmi','HbA1c_level','blood_glucose_level']]\n",
        "y=df['diabetes']\n",
        "\n",
        "# Dividir el conjunto de datos en conjuntos de entrenamiento y testing\n",
        "X_train, X_test, y_train, y_test = train_test_split(X, y, test_size=0.2, random_state=42)"
      ],
      "metadata": {
        "id": "pHVpcaI72tgb"
      },
      "execution_count": null,
      "outputs": []
    },
    {
      "cell_type": "code",
      "source": [
        "\n",
        "# Inicializar el modelo de regresión logística\n",
        "model = LogisticRegression()\n",
        "\n",
        "# Entrenar el modelo con los datos de entrenamiento\n",
        "model.fit(X_train, y_train)\n",
        "\n",
        "# Realizar predicciones en el conjunto de prueba\n",
        "predictions = model.predict(X_test)\n",
        "\n",
        "# Calcular la precisión del modelo\n",
        "accuracyRegresionLineal = np.mean(predictions == y_test)\n",
        "print(f\"Precisión del modelo con 'age', 'bmi','HbA1c_level','blood_glucose_level': {accuracyRegresionLineal * 100:.2f}%\")\n",
        "\n"
      ],
      "metadata": {
        "id": "MKUoyJKf2tgc"
      },
      "execution_count": null,
      "outputs": []
    },
    {
      "cell_type": "markdown",
      "source": [
        "**KNN**\n",
        "\n",
        "vamos a probar con el modelo KNN."
      ],
      "metadata": {
        "id": "pbMbCY4lQUMZ"
      }
    },
    {
      "cell_type": "code",
      "source": [
        "# Importar las bibliotecas necesarias\n",
        "from sklearn.neighbors import KNeighborsClassifier\n",
        "from sklearn.model_selection import train_test_split\n",
        "from sklearn.metrics import accuracy_score\n",
        "from sklearn.metrics import classification_report\n",
        "from sklearn.metrics import confusion_matrix\n",
        "from sklearn.preprocessing import MinMaxScaler\n",
        "\n"
      ],
      "metadata": {
        "id": "iKWkRfd1RXn7"
      },
      "execution_count": null,
      "outputs": []
    },
    {
      "cell_type": "code",
      "source": [
        "X=df[['age', 'bmi','HbA1c_level','blood_glucose_level']]\n",
        "y=df['diabetes']\n",
        "\n",
        "# Dividir el conjunto de datos en conjuntos de entrenamiento y testing\n",
        "X_train, X_test, y_train, y_test = train_test_split(X, y, test_size=0.2, random_state=42)\n"
      ],
      "metadata": {
        "id": "_I4iNydvRZ7_"
      },
      "execution_count": null,
      "outputs": []
    },
    {
      "cell_type": "code",
      "source": [
        "# Inicializar el clasificador KNN con un valor de k (número de vecinos) deseado\n",
        "n_neighbors=5 # Puedes ajustar el valor de k según tu necesidad\n",
        "knn = KNeighborsClassifier(n_neighbors)\n",
        "\n",
        "# Entrenar el modelo con el conjunto de entrenamiento\n",
        "knn.fit(X_train, y_train)\n",
        "\n",
        "# Realizar predicciones en el conjunto de prueba\n",
        "y_pred = knn.predict(X_test)\n",
        "\n",
        "# Calcular la precisión del modelo\n",
        "accuracyKNN = accuracy_score(y_test, y_pred)\n",
        "print(f\"Precisión del modelo: {accuracyKNN * 100:.2f}%\")\n",
        "\n",
        "print('Precision del K-NN en entrenamiento: {:.2f}'\n",
        "     .format(knn.score(X_train, y_train)))\n",
        "print('Precision del  K-NN en testing: {:.2f}'\n",
        "     .format(knn.score(X_test, y_test)))"
      ],
      "metadata": {
        "id": "0TPF3W2JRllQ"
      },
      "execution_count": null,
      "outputs": []
    },
    {
      "cell_type": "markdown",
      "source": [
        "Confirmemos la precisión viendo la Confusión Matrix y el Reporte sobre el conjunto de test, que nos detalla los aciertos y fallos:"
      ],
      "metadata": {
        "id": "5RsvVwHAS66H"
      }
    },
    {
      "cell_type": "code",
      "source": [
        "print(confusion_matrix(y_test, y_pred))\n",
        "print(classification_report(y_test, y_pred))"
      ],
      "metadata": {
        "id": "-JGEsquS0faJ"
      },
      "execution_count": null,
      "outputs": []
    },
    {
      "cell_type": "markdown",
      "source": [
        "En nuestra matriz podemos ver que el valor de f1 para el valor con diabetes es de 0.80, un valor bastante bueno."
      ],
      "metadata": {
        "id": "SxbgDKcmTDgV"
      }
    },
    {
      "cell_type": "markdown",
      "source": [
        "La precision de nuestro modelo es excelente."
      ],
      "metadata": {
        "id": "wejmpLN6R1RJ"
      }
    },
    {
      "cell_type": "markdown",
      "source": [
        "KNN da mejores valores en su modelo"
      ],
      "metadata": {
        "id": "az51GS2_Pvdl"
      }
    },
    {
      "cell_type": "markdown",
      "source": [
        "Vamos a revisar la grafica con los resultados de los valores, apoyandonos que tenemos dos opciones posibles y podemos observarlo en 2 dimensiones."
      ],
      "metadata": {
        "id": "AKl0A-BcTclu"
      }
    },
    {
      "cell_type": "code",
      "source": [
        "X"
      ],
      "metadata": {
        "id": "--Bk_MoiW3k_"
      },
      "execution_count": null,
      "outputs": []
    },
    {
      "cell_type": "markdown",
      "source": [
        "**SVM**"
      ],
      "metadata": {
        "id": "GNXEGr8xuxz3"
      }
    },
    {
      "cell_type": "code",
      "source": [
        "modelSVC.fit(X_train,y_train)\n",
        "y_pred2=modelSVC.predict(X_test)\n",
        "from sklearn.metrics import accuracy_score\n",
        "accuracySVM =accuracy_score(y_pred2,y_test)"
      ],
      "metadata": {
        "id": "-aUGWbdLuxel"
      },
      "execution_count": null,
      "outputs": []
    },
    {
      "cell_type": "markdown",
      "source": [
        "**Arbol de decisión**"
      ],
      "metadata": {
        "id": "bCFrQdDbgDd6"
      }
    },
    {
      "cell_type": "code",
      "source": [
        "#Cargamos la librería para utilizar el modelo arbol de decisión\n",
        "from sklearn.tree import DecisionTreeClassifier"
      ],
      "metadata": {
        "id": "JNZrFNnzgUr2"
      },
      "execution_count": null,
      "outputs": []
    },
    {
      "cell_type": "code",
      "source": [
        "X=df[['age', 'bmi','HbA1c_level','blood_glucose_level']]\n",
        "y=df['diabetes']\n",
        "\n",
        "# Dividir el conjunto de datos en conjuntos de entrenamiento y testing\n",
        "X_train, X_test, y_train, y_test = train_test_split(X, y, test_size=0.2, random_state=42)\n",
        "\n",
        "# Crea el modelo de árbol de decisión\n",
        "modelo_arbol = DecisionTreeClassifier()\n",
        "\n",
        "# Entrena el modelo con los datos de entrenamiento\n",
        "modelo_arbol.fit(X_train, y_train)\n",
        "\n",
        "# Realiza predicciones en el conjunto de prueba\n",
        "predicciones = modelo_arbol.predict(X_test)\n",
        "\n",
        "# Evalúa la precisión del modelo\n",
        "accuracyArbolesDecisión = accuracy_score(y_test, predicciones)\n",
        "print(f\"Precisión del modelo Arboles de decisión: {accuracyArbolesDecisión * 100:.2f}%\")"
      ],
      "metadata": {
        "id": "7ABS3DMugHx2"
      },
      "execution_count": null,
      "outputs": []
    },
    {
      "cell_type": "code",
      "source": [
        "# Puedes usar el modelo entrenado para hacer predicciones en nuevos datos\n",
        "\n",
        "\n",
        "#diabetes=0\n",
        "nuevo_paciente = {\n",
        "    'age': 76,\n",
        "    'bmi': 27,\n",
        "    'HbA1c_level': 5,\n",
        "    'blood_glucose_level': 160\n",
        "}\n",
        "\n",
        "# Convertir los datos del nuevo paciente en un DataFrame\n",
        "nuevo_df = pd.DataFrame([nuevo_paciente])\n",
        "\n",
        "# Realizar la predicción utilizando el modelo de árbol de decisión entrenado\n",
        "prediccion_diabetes = modelo_arbol.predict(nuevo_df)\n",
        "\n",
        "# Mostrar el resultado de la predicción\n",
        "if prediccion_diabetes[0] == 1:\n",
        "    print(\"El paciente tiene diabetes.\")\n",
        "else:\n",
        "    print(\"El paciente no tiene diabetes.\")"
      ],
      "metadata": {
        "id": "lO2F-t1egu1p"
      },
      "execution_count": null,
      "outputs": []
    },
    {
      "cell_type": "markdown",
      "source": [
        "**Redes Neuronales**\n"
      ],
      "metadata": {
        "id": "RTSyCbog4pzs"
      }
    },
    {
      "cell_type": "code",
      "source": [
        "# Importa las bibliotecas necesarias\n",
        "from sklearn.preprocessing import StandardScaler\n",
        "from tensorflow.keras.models import Sequential\n",
        "from tensorflow.keras.layers import Dense"
      ],
      "metadata": {
        "id": "anji6N2rhvcG"
      },
      "execution_count": null,
      "outputs": []
    },
    {
      "cell_type": "code",
      "source": [
        "cX=df[['age', 'bmi','HbA1c_level','blood_glucose_level']]\n",
        "y=df['diabetes']\n",
        "\n",
        "# Normaliza las características (es importante para las redes neuronales)\n",
        "scaler = StandardScaler()\n",
        "X_scaled = scaler.fit_transform(X)\n",
        "\n",
        "# Dividir el conjunto de datos en conjuntos de entrenamiento y testing\n",
        "X_train, X_test, y_train, y_test = train_test_split(X_scaled, y, test_size=0.2, random_state=42)"
      ],
      "metadata": {
        "id": "tTOERxGph1hL"
      },
      "execution_count": null,
      "outputs": []
    },
    {
      "cell_type": "code",
      "source": [
        "# Construir el modelo de red neuronal\n",
        "modelo = Sequential()\n",
        "modelo.add(Dense(32, input_dim=4, activation='relu'))\n",
        "modelo.add(Dense(16, activation='relu'))\n",
        "modelo.add(Dense(1, activation='sigmoid'))\n",
        "\n"
      ],
      "metadata": {
        "id": "DSr44LMTj6jZ"
      },
      "execution_count": null,
      "outputs": []
    },
    {
      "cell_type": "code",
      "source": [
        "\n",
        "# Compila el modelo\n",
        "modelo.compile(optimizer='adam', loss='binary_crossentropy', metrics=['accuracy'])\n",
        "\n",
        "\n",
        "# Entrena el modelo con los datos de entrenamiento. epoch=1000\n",
        "modelo.fit(X_train, y_train, epochs=100, batch_size=32, validation_split=0.2)\n",
        "\n",
        "# Evalúa el modelo con los datos de prueba\n",
        "precisionRedesNeuronales = modelo.evaluate(X_test, y_test) [1]\n",
        "print(f'Precisión del modelo: {precisionRedesNeuronales}')\n"
      ],
      "metadata": {
        "id": "32EbIFaOhpka"
      },
      "execution_count": null,
      "outputs": []
    },
    {
      "cell_type": "markdown",
      "source": [
        "**Resultados**\n",
        "\n",
        "Cuál es el modelo de predicción que mejor se ajusta a nuestro problema?"
      ],
      "metadata": {
        "id": "nQoxMG-rg_w6"
      }
    },
    {
      "cell_type": "code",
      "source": [
        "print(f\"Precisión del modelo de Regresión logística: {accuracyRegresionLineal * 100:.2f}%\")\n",
        "print(f\"Precisión del modelo de KNN: {accuracyKNN * 100:.2f}%\")\n",
        "print(f\"Precisión del modelo SVM: {accuracySVM* 100:.2f}%\")\n",
        "print(f\"Precisión del modelo de Arboles de decisión: {accuracyArbolesDecisión * 100:.2f}%\")\n",
        "print(f\"Precisión del modelo Redes Neuronales: {precisionRedesNeuronales* 100:.2f}%\")"
      ],
      "metadata": {
        "id": "woWxMsI-5KHs"
      },
      "execution_count": null,
      "outputs": []
    },
    {
      "cell_type": "markdown",
      "source": [
        "El mejor modelo de aprendizaje para predecir Diabetes en un paciente según las variables que tenemos, es el modelo de redes neuronales.\n",
        "Vamos a aplicar este modelo, entrenarlo y predecir nuestro resultado a partir de valores cualquiera."
      ],
      "metadata": {
        "id": "HZIG1asIv6Hr"
      }
    },
    {
      "cell_type": "markdown",
      "source": [
        "Voy a empezar metiendo datos que ya tenemos y revisamos si efectivamente predice de la manera correcta:"
      ],
      "metadata": {
        "id": "PM5xTl71wfit"
      }
    },
    {
      "cell_type": "code",
      "source": [
        "valor_glucosa=140\n",
        "valor_bmi=26.1\n",
        "valor_edad=21\n",
        "valorHbA1c=5.8\n",
        "#diabetes=0\n",
        "\n",
        "# Puedes usar el modelo entrenado para hacer predicciones en nuevos datos\n",
        "paciente= np.array([[valor_edad, valor_bmi, valorHbA1c, valor_glucosa]])\n",
        "nuevos_datos_scaled = scaler.transform(paciente)\n",
        "\n",
        "prediccion_diabetes_paciente = modelo.predict(nuevos_datos_scaled)\n",
        "\n",
        "# Convierte las probabilidades en predicciones binarias usando un umbral (por ejemplo, 0.5)\n",
        "prediccion_binaria =  (prediccion_diabetes_paciente >= 0.5).astype(int)\n",
        "# Mapea las predicciones binarias a etiquetas más descriptivas\n",
        "resultado = \"Diabetes\" if prediccion_binaria[0] == 1 else \"No Diabetes\"\n",
        "print(f'Predicción para paciente : {resultado}')\n",
        "prediccion_diabetes_paciente"
      ],
      "metadata": {
        "id": "x7rmamFkwOT4"
      },
      "execution_count": null,
      "outputs": []
    },
    {
      "cell_type": "code",
      "source": [
        "valor_glucosa=160\n",
        "valor_bmi=25.91\n",
        "valor_edad=73\n",
        "valorHbA1c=9\n",
        "#diabetes=1\n",
        "\n",
        "#predice la condición del paciente a partir de las cuatro variables medidas\n",
        "paciente= np.array([[valor_edad, valor_bmi, valorHbA1c, valor_glucosa]])\n",
        "nuevos_datos_scaled = scaler.transform(paciente) #es necesario hacerlo\n",
        "prediccion_diabetes_paciente = modelo.predict_on_batch(nuevos_datos_scaled)\n",
        "\n",
        "# Convierte las probabilidades en predicciones binarias usando un umbral (por ejemplo, 0.5)\n",
        "prediccion_binaria = (prediccion_diabetes_paciente >= 0.5).astype(int)\n",
        "\n",
        "# Mapea las predicciones binarias a etiquetas más descriptivas\n",
        "resultado = \"Diabetes\" if prediccion_binaria[0] == 1 else \"No Diabetes\"\n",
        "print(f'Predicción para paciente : {resultado}')\n",
        "prediccion_diabetes_paciente"
      ],
      "metadata": {
        "id": "9a0J6LzHx4RS"
      },
      "execution_count": null,
      "outputs": []
    },
    {
      "cell_type": "code",
      "source": [
        "valor_glucosa=90\n",
        "valor_bmi=36.38\n",
        "valor_edad=40\n",
        "valorHbA1c=6\n",
        "#diabetes=0\n",
        "# Puedes usar el modelo entrenado para hacer predicciones en nuevos datos\n",
        "paciente= np.array([[valor_edad, valor_bmi, valorHbA1c, valor_glucosa]])\n",
        "nuevos_datos_scaled = scaler.transform(paciente)\n",
        "prediccion_diabetes_paciente = modelo.predict(nuevos_datos_scaled)\n",
        "# Convierte las probabilidades en predicciones binarias usando un umbral (por ejemplo, 0.5)\n",
        "prediccion_binaria = (prediccion_diabetes_paciente >= 0.5).astype(int)\n",
        "# Mapea las predicciones binarias a etiquetas más descriptivas\n",
        "resultado = \"Diabetes\" if prediccion_binaria[0] == 1 else \"No Diabetes\"\n",
        "print(f'Predicción para paciente : {resultado}')"
      ],
      "metadata": {
        "id": "SM7VvjeI6Jcu"
      },
      "execution_count": null,
      "outputs": []
    },
    {
      "cell_type": "code",
      "source": [
        "valor_glucosa=159\n",
        "valor_bmi=37.16\n",
        "valor_edad=50\n",
        "valorHbA1c=9\n",
        "#diabetes=1\n",
        "# Puedes usar el modelo entrenado para hacer predicciones en nuevos datos\n",
        "paciente= np.array([[valor_edad, valor_bmi, valorHbA1c, valor_glucosa]])\n",
        "nuevos_datos_scaled = scaler.transform(paciente)\n",
        "prediccion_diabetes_paciente = modelo.predict(nuevos_datos_scaled)\n",
        "# Convierte las probabilidades en predicciones binarias usando un umbral (por ejemplo, 0.5)\n",
        "prediccion_binaria = (prediccion_diabetes_paciente >= 0.5).astype(int)\n",
        "# Mapea las predicciones binarias a etiquetas más descriptivas\n",
        "resultado = \"Diabetes\" if prediccion_binaria[0] == 1 else \"No Diabetes\"\n",
        "print(f'Predicción para paciente : {resultado}')"
      ],
      "metadata": {
        "id": "9dyydmrI6TyN"
      },
      "execution_count": null,
      "outputs": []
    },
    {
      "cell_type": "markdown",
      "source": [
        "#Entrenamiento y mejora del algoritmo"
      ],
      "metadata": {
        "id": "nwmdXecInoqU"
      }
    },
    {
      "cell_type": "markdown",
      "source": [
        "#**Cross validation**\n",
        "\n",
        "Evaluamos los distintos modelos a través de cross validation"
      ],
      "metadata": {
        "id": "WopM4q-CpLHK"
      }
    },
    {
      "cell_type": "code",
      "source": [
        "X=df[['age', 'bmi','HbA1c_level','blood_glucose_level']]\n",
        "y=df['diabetes']\n"
      ],
      "metadata": {
        "id": "nWe5E9qepMkX"
      },
      "execution_count": null,
      "outputs": []
    },
    {
      "cell_type": "code",
      "source": [
        "# Normaliza las características (es importante para las redes neuronales)\n",
        "scaler = StandardScaler()\n",
        "X_scaled = scaler.fit_transform(X)\n",
        "\n",
        "# Dividir el conjunto de datos en conjuntos de entrenamiento y testing\n",
        "x_train, y_test, y_train, y_test = train_test_split(X_scaled, y, test_size=0.3, random_state=7)"
      ],
      "metadata": {
        "id": "086Ef2Xbpfwi"
      },
      "execution_count": null,
      "outputs": []
    },
    {
      "cell_type": "code",
      "source": [
        "def evaluate_model(models):\n",
        "    \"\"\"\n",
        "    Takes a list of models and returns chart of cross validation scores using mean accuracy\n",
        "    \"\"\"\n",
        "\n",
        "    # Cross validate model with Kfold stratified cross val\n",
        "    kfold = StratifiedKFold(n_splits = 10)\n",
        "\n",
        "    result = []\n",
        "    for model in models :\n",
        "        result.append(cross_val_score(estimator = model, X = x_train, y = y_train, scoring = \"accuracy\", cv = kfold, n_jobs=4))\n",
        "\n",
        "    cv_means = []\n",
        "    cv_std = []\n",
        "    for cv_result in result:\n",
        "        cv_means.append(cv_result.mean())\n",
        "        cv_std.append(cv_result.std())\n",
        "\n",
        "    result_df = pd.DataFrame({\n",
        "        \"CrossValMeans\":cv_means,\n",
        "        \"CrossValerrors\": cv_std,\n",
        "        \"Models\":[\n",
        "            \"LogisticRegression\",\n",
        "            \"DecisionTreeClassifier\",\n",
        "            \"SVC\",\n",
        "            \"RandomForestClassifier\",\n",
        "            \"KNeighborsClassifier\"\n",
        "        ]\n",
        "    })\n",
        "\n",
        "    # Generate chart\n",
        "    bar = sns.barplot(x = \"CrossValMeans\", y = \"Models\", data = result_df, orient = \"h\")\n",
        "    bar.set_xlabel(\"Mean Accuracy\")\n",
        "    bar.set_title(\"Cross validation scores\")\n",
        "    return result_df"
      ],
      "metadata": {
        "id": "x8ks9SyLpqeg"
      },
      "execution_count": null,
      "outputs": []
    },
    {
      "cell_type": "code",
      "source": [
        "# Modeling Libraries\n",
        "from sklearn.preprocessing import QuantileTransformer\n",
        "from sklearn.metrics import confusion_matrix, accuracy_score, precision_score\n",
        "from sklearn.ensemble import RandomForestClassifier, AdaBoostClassifier, GradientBoostingClassifier, VotingClassifier\n",
        "from sklearn.linear_model import LogisticRegression\n",
        "from sklearn.neighbors import KNeighborsClassifier\n",
        "from sklearn.tree import DecisionTreeClassifier\n",
        "from sklearn.svm import SVC\n",
        "from sklearn.model_selection import GridSearchCV, cross_val_score, StratifiedKFold, learning_curve, train_test_split"
      ],
      "metadata": {
        "id": "uFu-b9hdp8O-"
      },
      "execution_count": null,
      "outputs": []
    },
    {
      "cell_type": "code",
      "source": [
        "# Modeling step Test differents algorithms\n",
        "random_state = 30\n",
        "models = [\n",
        "    LogisticRegression(random_state = random_state, solver='liblinear'),\n",
        "    DecisionTreeClassifier(random_state = random_state),\n",
        "    SVC(random_state = random_state),\n",
        "    RandomForestClassifier(random_state = random_state),\n",
        "    KNeighborsClassifier()\n",
        "]\n",
        "evaluate_model(models)"
      ],
      "metadata": {
        "id": "4LcqzFbepzmv"
      },
      "execution_count": null,
      "outputs": []
    },
    {
      "source": [
        "from matplotlib import pyplot as plt\n",
        "import seaborn as sns\n",
        "_df_2.groupby('Models').size().plot(kind='barh', color=sns.palettes.mpl_palette('Dark2'))\n",
        "plt.gca().spines[['top', 'right',]].set_visible(False)"
      ],
      "cell_type": "code",
      "metadata": {
        "id": "YzOpSfuYtnHO"
      },
      "execution_count": null,
      "outputs": []
    },
    {
      "cell_type": "markdown",
      "source": [
        "Elegimos el mejor valor de k"
      ],
      "metadata": {
        "id": "BvbfmV9AYhf-"
      }
    },
    {
      "cell_type": "code",
      "source": [
        "k_range = range(1,20)\n",
        "scores = []\n",
        "for k in k_range:\n",
        "    knn = KNeighborsClassifier(n_neighbors = k)\n",
        "    knn.fit(X_train, y_train)\n",
        "    scores.append(knn.score(X_test, y_test))\n",
        "plt.figure()\n",
        "plt.xlabel('k')\n",
        "plt.ylabel('accuracy')\n",
        "plt.scatter(k_range, scores)\n",
        "plt.xticks([0,5,10,15,20])"
      ],
      "metadata": {
        "id": "o9REE-RUnrF5"
      },
      "execution_count": null,
      "outputs": []
    },
    {
      "cell_type": "markdown",
      "source": [
        "De esta grafica podemos interpretar que a partir del valor K=3 la precision es la misma, y perfecta."
      ],
      "metadata": {
        "id": "Ai3FIheCY0dz"
      }
    },
    {
      "cell_type": "markdown",
      "source": [
        "Vamos a usar el algoritmo con nuevos pacientes y valores"
      ],
      "metadata": {
        "id": "61DNtQhFZUwF"
      }
    },
    {
      "cell_type": "code",
      "source": [
        "#print(clf.predict([[5, 1.0]]))"
      ],
      "metadata": {
        "id": "uFmV14--ZX9G"
      },
      "execution_count": null,
      "outputs": []
    },
    {
      "cell_type": "markdown",
      "source": [
        "#PCA- Principal Component Analysis\n",
        "\n",
        "Chequeamos las variables independientes que mejor funcionan en nuestro modelo mediante la técnica de PCA."
      ],
      "metadata": {
        "id": "YtCB9o_UDfkV"
      }
    },
    {
      "cell_type": "markdown",
      "source": [
        "Scaleamos los datos para más adelante comparar las variables"
      ],
      "metadata": {
        "id": "Z8HRx0IwDe1T"
      }
    },
    {
      "cell_type": "code",
      "source": [
        "df.head()"
      ],
      "metadata": {
        "id": "Ymw8Y5GGHHYz"
      },
      "execution_count": null,
      "outputs": []
    },
    {
      "cell_type": "markdown",
      "source": [
        "eliminamos las variables que ya usamos en nuestro modelo (blood_glucose_level y HbA1c_level y convertimos nuestras variables categoricas en numericas."
      ],
      "metadata": {
        "id": "vMXKUXq-HQ5I"
      }
    },
    {
      "cell_type": "code",
      "source": [
        "df2=df.drop('HbA1c_level',axis=1)\n",
        "df2=df2.drop('blood_glucose_level',axis=1)\n",
        "df2=pd.get_dummies(df2)\n",
        "df2.head()"
      ],
      "metadata": {
        "id": "P6MeyfreHgzL"
      },
      "execution_count": null,
      "outputs": []
    },
    {
      "cell_type": "code",
      "source": [
        "#cargamos librerias PCA\n",
        "from sklearn.preprocessing import StandardScaler\n",
        "%matplotlib inline"
      ],
      "metadata": {
        "id": "bgLxCGNKEn-a"
      },
      "execution_count": null,
      "outputs": []
    },
    {
      "cell_type": "code",
      "source": [
        "std = StandardScaler()\n",
        "X_std=std.fit_transform(df2)\n",
        "df_std = pd.DataFrame(X_std,columns=df2.columns)\n",
        "df_std.head()"
      ],
      "metadata": {
        "id": "ZCjHGdc_EZUE"
      },
      "execution_count": null,
      "outputs": []
    },
    {
      "cell_type": "code",
      "source": [
        "from sklearn.decomposition import PCA"
      ],
      "metadata": {
        "id": "GOdLRNYNIxm3"
      },
      "execution_count": null,
      "outputs": []
    },
    {
      "cell_type": "code",
      "source": [
        "pca_df = PCA()\n",
        "x_transformado=pca_df.fit_transform(df_std)\n",
        "x_transformado"
      ],
      "metadata": {
        "id": "WyIv3k2PIygY"
      },
      "execution_count": null,
      "outputs": []
    },
    {
      "cell_type": "code",
      "source": [
        "df_nuevo=pd.DataFrame(x_transformado,columns=['pc'+str(x) for x in range(1,14)])"
      ],
      "metadata": {
        "id": "RYdKW15oI1GP"
      },
      "execution_count": null,
      "outputs": []
    },
    {
      "cell_type": "code",
      "source": [
        "df_nuevo"
      ],
      "metadata": {
        "id": "ItNz-hZ2I2cG"
      },
      "execution_count": null,
      "outputs": []
    },
    {
      "cell_type": "code",
      "source": [
        "pca_df.explained_variance_ratio_"
      ],
      "metadata": {
        "id": "CmWQ5U25-K3u"
      },
      "execution_count": null,
      "outputs": []
    },
    {
      "cell_type": "code",
      "execution_count": null,
      "metadata": {
        "id": "tJfQ-TEDpgbv"
      },
      "outputs": [],
      "source": [
        "plt.figure(figsize=(6,5))\n",
        "\n",
        "plt.plot(range(1,14), pca_df.explained_variance_ratio_, '-o', label='Componente individual')\n",
        "plt.plot(range(1,14), np.cumsum(pca_df.explained_variance_ratio_), '-s', label='Acumulado')\n",
        "\n",
        "plt.ylabel('Porcentaje de Varianza Explicada'); plt.xlabel('Componentes Principales')\n",
        "plt.ylim(0,1.05); plt.xticks(range(13))\n",
        "plt.legend(loc=0);"
      ]
    },
    {
      "cell_type": "markdown",
      "source": [
        "Esta grafica nos representa que no tengo ninguna otra variable que me aporte nada más que las dos variables que usamos en nuestro modelo KNN."
      ],
      "metadata": {
        "id": "x2BpCatCpyTu"
      }
    },
    {
      "cell_type": "markdown",
      "source": [
        "#SHAP\n",
        "\n",
        "qué variables tienen más influencia en las predicciones de las técnicas de machine learning."
      ],
      "metadata": {
        "id": "4-BvIXgwb7-H"
      }
    },
    {
      "cell_type": "code",
      "source": [
        "!pip install shap\n",
        "import shap"
      ],
      "metadata": {
        "id": "e7UpaMJwb-v2"
      },
      "execution_count": null,
      "outputs": []
    },
    {
      "cell_type": "code",
      "source": [
        "X=df[['age', 'bmi','HbA1c_level','blood_glucose_level']]\n",
        "y=df['diabetes']\n",
        "X_train, X_test, y_train, y_test = train_test_split(X, y, test_size=0.3, random_state=42)"
      ],
      "metadata": {
        "id": "dlUVw3ZBcN62"
      },
      "execution_count": null,
      "outputs": []
    },
    {
      "cell_type": "code",
      "source": [
        "import lightgbm as lgb\n",
        "\n",
        "gbm = lgb.LGBMRegressor()\n",
        "model=gbm.fit(X_train, y_train)"
      ],
      "metadata": {
        "id": "j7oNqH0YG-i4"
      },
      "execution_count": null,
      "outputs": []
    },
    {
      "cell_type": "code",
      "source": [
        "#aca usamos SHAP\n",
        "explainer = shap.Explainer(model)\n"
      ],
      "metadata": {
        "id": "R1AUHtiNcXW1"
      },
      "execution_count": null,
      "outputs": []
    },
    {
      "cell_type": "code",
      "source": [
        "explainer.expected_value"
      ],
      "metadata": {
        "id": "lFypt1RAcYjr"
      },
      "execution_count": null,
      "outputs": []
    },
    {
      "cell_type": "code",
      "source": [
        "shap_values = explainer(X_test)\n",
        "shap_values"
      ],
      "metadata": {
        "id": "rX5tN1xwcaV0"
      },
      "execution_count": null,
      "outputs": []
    },
    {
      "cell_type": "code",
      "source": [
        "X_test.shape"
      ],
      "metadata": {
        "id": "Vib-VGZ6cbtI"
      },
      "execution_count": null,
      "outputs": []
    },
    {
      "cell_type": "code",
      "source": [
        "# tengo 6k miro el 15\n",
        "shap.initjs()# en colab, tiene que ir en la misma celda\n",
        "shap.plots.force( shap_values[0],figsize=(15, 3))\n"
      ],
      "metadata": {
        "id": "ztDetzDJByLW"
      },
      "execution_count": null,
      "outputs": []
    },
    {
      "cell_type": "code",
      "source": [
        "shap.plots.bar(shap_values)"
      ],
      "metadata": {
        "id": "9AmuN15LEEcy"
      },
      "execution_count": null,
      "outputs": []
    },
    {
      "cell_type": "code",
      "source": [
        "# localmente, para una prediccion, veo la importancia de las features usando los valores shap\n",
        "# miro el primero 0\n",
        "shap.plots.waterfall(shap_values[30])"
      ],
      "metadata": {
        "id": "RA06wLEkdo_P"
      },
      "execution_count": null,
      "outputs": []
    },
    {
      "cell_type": "code",
      "source": [],
      "metadata": {
        "id": "CI_r8sBwRcWw"
      },
      "execution_count": null,
      "outputs": []
    },
    {
      "cell_type": "code",
      "source": [
        "X=df[['age', 'bmi','HbA1c_level','blood_glucose_level']]\n",
        "y=df['diabetes']\n",
        "\n",
        "# Normaliza las características (es importante para las redes neuronales)\n",
        "scaler = StandardScaler()\n",
        "X_scaled = scaler.fit_transform(X)\n",
        "\n",
        "# Dividir el conjunto de datos en conjuntos de entrenamiento y testing\n",
        "X_train, X_test, y_train, y_test = train_test_split(X_scaled, y, test_size=0.2, random_state=42)"
      ],
      "metadata": {
        "id": "utjf2M_rRcgy"
      },
      "execution_count": null,
      "outputs": []
    },
    {
      "cell_type": "code",
      "source": [
        "# Construir el modelo de red neuronal\n",
        "modelo = Sequential()\n",
        "modelo.add(Dense(32, input_dim=4, activation='relu'))\n",
        "modelo.add(Dense(16, activation='relu'))\n",
        "modelo.add(Dense(1, activation='sigmoid'))\n",
        "\n"
      ],
      "metadata": {
        "id": "c9ejuMGiRcgz"
      },
      "execution_count": null,
      "outputs": []
    },
    {
      "cell_type": "code",
      "source": [
        "\n",
        "# Compila el modelo\n",
        "modelo.compile(optimizer='adam', loss='binary_crossentropy', metrics=['accuracy'])\n",
        "\n",
        "\n",
        "# Entrena el modelo con los datos de entrenamiento. epoch=1000\n",
        "modelo.fit(X_train, y_train, epochs=100, batch_size=32, validation_split=0.2)\n",
        "\n"
      ],
      "metadata": {
        "id": "muTfk_DTRcgz"
      },
      "execution_count": null,
      "outputs": []
    },
    {
      "cell_type": "code",
      "source": [],
      "metadata": {
        "id": "pDxgbeuuTrA7"
      },
      "execution_count": null,
      "outputs": []
    },
    {
      "cell_type": "code",
      "source": [
        "#aca usamos SHAP\n",
        "explainer = shap.Explainer(model)\n"
      ],
      "metadata": {
        "id": "FcOpM7MTTrRQ"
      },
      "execution_count": null,
      "outputs": []
    },
    {
      "cell_type": "code",
      "source": [
        "explainer.expected_value"
      ],
      "metadata": {
        "id": "j0g8ZweHTrRR"
      },
      "execution_count": null,
      "outputs": []
    },
    {
      "cell_type": "code",
      "source": [
        "shap_values = explainer(X_test)\n",
        "shap_values"
      ],
      "metadata": {
        "id": "WcIPNVlJTrRR"
      },
      "execution_count": null,
      "outputs": []
    },
    {
      "cell_type": "code",
      "source": [
        "X_test.shape"
      ],
      "metadata": {
        "id": "f3NjknwcTrRS"
      },
      "execution_count": null,
      "outputs": []
    },
    {
      "cell_type": "code",
      "source": [
        "# tengo 6k miro el 15\n",
        "shap.initjs()# en colab, tiene que ir en la misma celda\n",
        "shap.plots.force( shap_values[0],figsize=(15, 3))\n"
      ],
      "metadata": {
        "id": "I_wcDeWSTrRS"
      },
      "execution_count": null,
      "outputs": []
    },
    {
      "cell_type": "code",
      "source": [
        "shap.plots.bar(shap_values)"
      ],
      "metadata": {
        "id": "lYpjW7h_TrRS"
      },
      "execution_count": null,
      "outputs": []
    }
  ],
  "metadata": {
    "colab": {
      "provenance": [],
      "collapsed_sections": [
        "WopM4q-CpLHK",
        "YtCB9o_UDfkV"
      ],
      "toc_visible": true,
      "authorship_tag": "ABX9TyN8EdSAysnY+fj+niIr9exa",
      "include_colab_link": true
    },
    "kernelspec": {
      "display_name": "Python 3",
      "name": "python3"
    },
    "language_info": {
      "name": "python"
    }
  },
  "nbformat": 4,
  "nbformat_minor": 0
}